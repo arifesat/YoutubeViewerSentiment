{
 "cells": [
  {
   "cell_type": "code",
   "execution_count": 2,
   "id": "1d1a6140",
   "metadata": {},
   "outputs": [
    {
     "name": "stdout",
     "output_type": "stream",
     "text": [
      "http://ec2-54-210-190-31.compute-1.amazonaws.com:5000/\n",
      "🏃 View run skillful-bug-635 at: http://ec2-54-210-190-31.compute-1.amazonaws.com:5000/#/experiments/0/runs/a8a6dd08f982410bbffc030fce91ed6b\n",
      "🧪 View experiment at: http://ec2-54-210-190-31.compute-1.amazonaws.com:5000/#/experiments/0\n",
      "🏃 View run skillful-bug-635 at: http://ec2-54-210-190-31.compute-1.amazonaws.com:5000/#/experiments/0/runs/a8a6dd08f982410bbffc030fce91ed6b\n",
      "🧪 View experiment at: http://ec2-54-210-190-31.compute-1.amazonaws.com:5000/#/experiments/0\n"
     ]
    }
   ],
   "source": [
    "import os\n",
    "from dotenv import load_dotenv\n",
    "import mlflow\n",
    "\n",
    "# Load environment variables from .env file\n",
    "load_dotenv()\n",
    "print(os.getenv('AWS-MLFLOW'))\n",
    "# Get the AWS MLflow URI from .env file\n",
    "aws_mlflow_uri = os.getenv('AWS-MLFLOW')\n",
    "\n",
    "mlflow.set_tracking_uri(aws_mlflow_uri)\n",
    "\n",
    "with mlflow.start_run():\n",
    "    mlflow.log_param(\"param1\", 15)\n",
    "    mlflow.log_metric(\"metric1\", 0.89)"
   ]
  }
 ],
 "metadata": {
  "kernelspec": {
   "display_name": "Python 3",
   "language": "python",
   "name": "python3"
  },
  "language_info": {
   "codemirror_mode": {
    "name": "ipython",
    "version": 3
   },
   "file_extension": ".py",
   "mimetype": "text/x-python",
   "name": "python",
   "nbconvert_exporter": "python",
   "pygments_lexer": "ipython3",
   "version": "3.11.9"
  }
 },
 "nbformat": 4,
 "nbformat_minor": 5
}
